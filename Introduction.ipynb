{
 "cells": [
  {
   "cell_type": "markdown",
   "metadata": {},
   "source": [
    "# <u>Deep Learning Project</u>: Deep Fake Voice Recognition "
   ]
  },
  {
   "cell_type": "markdown",
   "metadata": {},
   "source": [
    "#### ANNA KOUTOUGERA(2022202304012) \n",
    "#### DESPOINA ANGELIKI MOISIDOU(2022202304016)"
   ]
  },
  {
   "cell_type": "markdown",
   "metadata": {},
   "source": [
    "## **Introduction**"
   ]
  },
  {
   "cell_type": "markdown",
   "metadata": {},
   "source": [
    "In recent years, generative Artificial Intelligence (AI) has advanced significantly, leading to the development of state-of-the-art systems capable of real-time voice conversion via a microphone. These sophisticated deep learning models can clone an individual’s speech and use it in online or phone conversations, leveraging consumer-level computing technology. This report examines the implications of such technology, focusing on classification of Real and Fake audio "
   ]
  },
  {
   "cell_type": "markdown",
   "metadata": {},
   "source": [
    "### <u>Original Audio Classification Dataset</u>: "
   ]
  },
  {
   "cell_type": "markdown",
   "metadata": {},
   "source": [
    "We present an original audio classification dataset, featuring recordings from 8 well-known public figures. This dataset includes both authentic audio collected from the internet and AI-generated speech produced via Retrieval-based Voice Conversion (RVC)."
   ]
  },
  {
   "cell_type": "markdown",
   "metadata": {},
   "source": [
    "Table 1\n",
    "| Photo                  | Individual             | Source                       | Length (MM:SS) |\n",
    "|------------------------|------------------------|------------------------------|----------------|\n",
    "| <img src=\"Joe_Biden.jpeg\" width=\"50\"/>     | Joe Biden              | Victory Speech[2]              | 10:00          |\n",
    "| <img src=\"Ryan-Gosling.webp\" width=\"50\"/>  | Ryan Gosling           | Golden Globes Speech[3]        | 1:33           |\n",
    "| <img src=\"Elon-Mask.jpeg\" width=\"50\"/>     | Elon Musk              | Commencement Speech[4]         | 10:00          |\n",
    "| <img src=\"Barack_Obama.jpeg\" width=\"50\"/>  | Barack Obama           | Victory Speech[5]              | 10:00          |\n",
    "| <img src=\"Margot-Robbie.jpeg\" width=\"50\"/> | Margot Robbie          | BAFTAs Speech[6]               | 1:19           |\n",
    "| <img src=\"Linus-Sebastian.jpeg\" width=\"50\"/>| Linus Sebastian        | Stepping Down Monologue[7]     | 9:30           |\n",
    "| <img src=\"Talor-Swift.jpeg\" width=\"50\"/>  | Taylor Swift           | Women in Music Speech[8]       | 10:00          |\n",
    "| <img src=\"Donald_Trump.jpeg\" width=\"50\"/>  | Donald Trump           | Victory Speech[9]              | 10:00          |\n",
    "|                        | **Total**              |                              | **62:22**      |\n"
   ]
  },
  {
   "cell_type": "markdown",
   "metadata": {},
   "source": [
    "[2]Victory Speech by Joe Biden: https://www.youtube.com/watch?v=1AfNYztas2c Last accessed: 07/23\n",
    "\n",
    "[3]Golden Globes Speech by Ryan Gosling: https://www.youtube.com/watch?v=K8JLyUW_MSw Last accessed: 07/23 \n",
    "\n",
    "[4]Commencement Speech by Elon Musk: https://www.youtube.com/watch?v=MxZpaJK74Y4 Last accessed: 07/23 \n",
    "\n",
    "[5]Victory Speech by Barack Obama: https://www.youtube.com/watch?v=IeCY-jKpoZ0 Last accessed: 07/23\n",
    "\n",
    "[6]BAFTAs Speech by Margot Robbie: https://www.youtube.com/watch?v=-JA3_QBfjG8 Last accessed: 07/23\n",
    "\n",
    "[7]Stepping Down Monologue by Linus Sebastian: https://www.youtube.com/watch?v=0vuzqunync8 Last accessed: 07/23 \n",
    "\n",
    "[8]Women in Music Speech by Taylor Swift: https://www.youtube.com/watch?v=ZVpkFb9-fts Last accessed: 07/23 \n",
    "\n",
    "[9]Victory Speech by Donald Trump: https://www.youtube.com/watch?v=Qsvy10D5rtc Last accessed: 07/23"
   ]
  },
  {
   "cell_type": "markdown",
   "metadata": {},
   "source": [
    "**Eight** individuals were selected, each serving as a source for real speech data and its conversion into AI-generated speech. Table 1 details the sources of the speech. In total, **62 minutes and 22 seconds of speech** were collected from these eight individuals. Audio tracks were limited to a **maximum of ten minutes each**. The dataset exhibits varying levels of background noise; for instance, some tracks include cheering from supporters during Presidential victory speeches, while others, like Linus Sebastian's Stepping Down Monologue, are of production-level quality. In contrast, Elon Musk’s Commencement Speech was recorded from a distance without studio-quality equipment, resulting in lower quality. These tracks were intentionally chosen to introduce variation within the dataset."
   ]
  }
 ],
 "metadata": {
  "language_info": {
   "name": "python"
  }
 },
 "nbformat": 4,
 "nbformat_minor": 2
}
