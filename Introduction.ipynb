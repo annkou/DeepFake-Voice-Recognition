{
 "cells": [
  {
   "cell_type": "markdown",
   "metadata": {},
   "source": [
    "# <u>Deep Learning Project</u>: Deep Fake Voice Recognition "
   ]
  },
  {
   "cell_type": "markdown",
   "metadata": {},
   "source": [
    "#### ANNA KOUTOUGERA(2022202304012) \n",
    "#### DESPOINA ANGELIKI MOISIDOU(2022202304016)"
   ]
  },
  {
   "cell_type": "markdown",
   "metadata": {},
   "source": [
    "## **Introduction**"
   ]
  },
  {
   "cell_type": "markdown",
   "metadata": {},
   "source": [
    "In recent years, generative Artificial Intelligence (AI) has advanced significantly, leading to the development of state-of-the-art systems capable of real-time voice conversion via a microphone. These sophisticated deep learning models can clone an individual’s speech and use it in online or phone conversations, leveraging consumer-level computing technology. This report examines the implications of such technology, focusing on classification of Real and Fake audio "
   ]
  },
  {
   "cell_type": "markdown",
   "metadata": {},
   "source": [
    "### <u>Original Audio Classification Dataset</u>: "
   ]
  },
  {
   "cell_type": "markdown",
   "metadata": {},
   "source": [
    "We present an original audio classification dataset, featuring recordings from 8 well-known public figures. This dataset includes both authentic audio collected from the internet and AI-generated speech produced via Retrieval-based Voice Conversion (RVC)."
   ]
  },
  {
   "cell_type": "markdown",
   "metadata": {},
   "source": [
    "Table 1\n",
    "| Photo                  | Individual             | Source                       | Length (MM:SS) |\n",
    "|------------------------|------------------------|------------------------------|----------------|\n",
    "| <img src=\"./celebrity-pictures/Joe_Biden.jpeg\" width=\"50\"/>     | Joe Biden              | Victory Speech[2]              | 10:00          |\n",
    "| <img src=\"./celebrity-pictures/Ryan-Gosling.webp\" width=\"50\"/>  | Ryan Gosling           | Golden Globes Speech[3]        | 1:33           |\n",
    "| <img src=\"./celebrity-pictures/Elon-Mask.jpeg\" width=\"50\"/>     | Elon Musk              | Commencement Speech[4]         | 10:00          |\n",
    "| <img src=\"./celebrity-pictures/Barack_Obama.jpeg\" width=\"50\"/>  | Barack Obama           | Victory Speech[5]              | 10:00          |\n",
    "| <img src=\"./celebrity-pictures/Margot-Robbie.jpeg\" width=\"50\"/> | Margot Robbie          | BAFTAs Speech[6]               | 1:19           |\n",
    "| <img src=\"./celebrity-pictures/Linus-Sebastian.jpeg\" width=\"50\"/>| Linus Sebastian        | Stepping Down Monologue[7]     | 9:30           |\n",
    "| <img src=\"./celebrity-pictures/Talor-Swift.jpeg\" width=\"50\"/>  | Taylor Swift           | Women in Music Speech[8]       | 10:00          |\n",
    "| <img src=\"./celebrity-pictures/Donald_Trump.jpeg\" width=\"50\"/>  | Donald Trump           | Victory Speech[9]              | 10:00          |\n",
    "|                        | **Total**              |                              | **62:22**      |\n"
   ]
  },
  {
   "cell_type": "markdown",
   "metadata": {},
   "source": [
    "[2] [Victory Speech by Joe Biden:](https://www.youtube.com/watch?v=1AfNYztas2c) Last accessed: 07/23\n",
    "\n",
    "[3] [Golden Globes Speech by Ryan Gosling:](https://www.youtube.com/watch?v=K8JLyUW_MSw) Last accessed: 07/23 \n",
    "\n",
    "[4] [Commencement Speech by Elon Musk:](https://www.youtube.com/watch?v=MxZpaJK74Y4) Last accessed: 07/23 \n",
    "\n",
    "[5] [Victory Speech by Barack Obama:](https://www.youtube.com/watch?v=IeCY-jKpoZ0) Last accessed: 07/23\n",
    "\n",
    "[6] [BAFTAs Speech by Margot Robbie:](https://www.youtube.com/watch?v=-JA3_QBfjG8)Last accessed: 07/23\n",
    "\n",
    "[7] [Stepping Down Monologue by Linus Sebastian:](https://www.youtube.com/watch?v=0vuzqunync8) Last accessed: 07/23 \n",
    "\n",
    "[8] [Women in Music Speech by Taylor Swift:](https://www.youtube.com/watch?v=ZVpkFb9-fts) Last accessed: 07/23 \n",
    "\n",
    "[9] [Victory Speech by Donald Trump:](https://www.youtube.com/watch?v=Qsvy10D5rtc) Last accessed: 07/23"
   ]
  },
  {
   "cell_type": "markdown",
   "metadata": {},
   "source": [
    "**Eight** individuals were selected, each serving as a source for real speech data and its conversion into AI-generated speech. Table 1 details the sources of the speech. In total, **62 minutes and 22 seconds of speech** were collected from these eight individuals. Audio tracks were limited to a **maximum of ten minutes each**. The dataset exhibits varying levels of background noise; for instance, some tracks include cheering from supporters during Presidential victory speeches, while others, like Linus Sebastian's Stepping Down Monologue, are of production-level quality. In contrast, Elon Musk’s Commencement Speech was recorded from a distance without studio-quality equipment, resulting in lower quality. These tracks were intentionally chosen to introduce variation within the dataset."
   ]
  },
  {
   "cell_type": "markdown",
   "metadata": {},
   "source": [
    "### <u>CSV from Source Dataset after Cleaning </u>:"
   ]
  },
  {
   "cell_type": "markdown",
   "metadata": {},
   "source": [
    "The following dataset is part of our datasource.It consists of audio features derived from segments of longer audio clips, but the cleanling and transformation processes of the audio are unknown. Upon evaluation, we identified a significant issue: during a random train/test split, segments from the same original audio clip could be divided between the training and test sets. This can cause data leakage, as segments from the same source share inherent characteristics, leading to overly optimistic performance assessments. To prevent this, it is crucial to include an additional column indicating the original audio source for each segment. This would enable grouping segments from the same source together, ensuring they are entirely within either the training or test set, thereby avoiding data leakage.\n"
   ]
  },
  {
   "cell_type": "code",
   "execution_count": 1,
   "metadata": {},
   "outputs": [
    {
     "data": {
      "text/html": [
       "<div>\n",
       "<style scoped>\n",
       "    .dataframe tbody tr th:only-of-type {\n",
       "        vertical-align: middle;\n",
       "    }\n",
       "\n",
       "    .dataframe tbody tr th {\n",
       "        vertical-align: top;\n",
       "    }\n",
       "\n",
       "    .dataframe thead th {\n",
       "        text-align: right;\n",
       "    }\n",
       "</style>\n",
       "<table border=\"1\" class=\"dataframe\">\n",
       "  <thead>\n",
       "    <tr style=\"text-align: right;\">\n",
       "      <th></th>\n",
       "      <th>chroma_stft</th>\n",
       "      <th>rms</th>\n",
       "      <th>spectral_centroid</th>\n",
       "      <th>spectral_bandwidth</th>\n",
       "      <th>rolloff</th>\n",
       "      <th>zero_crossing_rate</th>\n",
       "      <th>mfcc1</th>\n",
       "      <th>mfcc2</th>\n",
       "      <th>mfcc3</th>\n",
       "      <th>mfcc4</th>\n",
       "      <th>...</th>\n",
       "      <th>mfcc12</th>\n",
       "      <th>mfcc13</th>\n",
       "      <th>mfcc14</th>\n",
       "      <th>mfcc15</th>\n",
       "      <th>mfcc16</th>\n",
       "      <th>mfcc17</th>\n",
       "      <th>mfcc18</th>\n",
       "      <th>mfcc19</th>\n",
       "      <th>mfcc20</th>\n",
       "      <th>LABEL</th>\n",
       "    </tr>\n",
       "  </thead>\n",
       "  <tbody>\n",
       "    <tr>\n",
       "      <th>0</th>\n",
       "      <td>0.338055</td>\n",
       "      <td>0.027948</td>\n",
       "      <td>2842.948867</td>\n",
       "      <td>4322.916759</td>\n",
       "      <td>6570.586186</td>\n",
       "      <td>0.041050</td>\n",
       "      <td>-462.169586</td>\n",
       "      <td>90.311272</td>\n",
       "      <td>19.073769</td>\n",
       "      <td>24.046888</td>\n",
       "      <td>...</td>\n",
       "      <td>-6.686564</td>\n",
       "      <td>0.902086</td>\n",
       "      <td>-7.251551</td>\n",
       "      <td>-1.198342</td>\n",
       "      <td>4.747403</td>\n",
       "      <td>-4.986279</td>\n",
       "      <td>0.953935</td>\n",
       "      <td>-5.013138</td>\n",
       "      <td>-6.779060</td>\n",
       "      <td>FAKE</td>\n",
       "    </tr>\n",
       "    <tr>\n",
       "      <th>1</th>\n",
       "      <td>0.443766</td>\n",
       "      <td>0.037838</td>\n",
       "      <td>2336.129597</td>\n",
       "      <td>3445.777044</td>\n",
       "      <td>3764.949874</td>\n",
       "      <td>0.047730</td>\n",
       "      <td>-409.413422</td>\n",
       "      <td>120.348808</td>\n",
       "      <td>-7.161531</td>\n",
       "      <td>5.114784</td>\n",
       "      <td>...</td>\n",
       "      <td>-2.131157</td>\n",
       "      <td>-6.876417</td>\n",
       "      <td>-1.359395</td>\n",
       "      <td>0.326401</td>\n",
       "      <td>-5.420016</td>\n",
       "      <td>-2.109968</td>\n",
       "      <td>-1.757634</td>\n",
       "      <td>-9.537907</td>\n",
       "      <td>-8.494421</td>\n",
       "      <td>FAKE</td>\n",
       "    </tr>\n",
       "    <tr>\n",
       "      <th>2</th>\n",
       "      <td>0.302528</td>\n",
       "      <td>0.056578</td>\n",
       "      <td>2692.988386</td>\n",
       "      <td>2861.133180</td>\n",
       "      <td>4716.610271</td>\n",
       "      <td>0.080342</td>\n",
       "      <td>-318.996033</td>\n",
       "      <td>120.490273</td>\n",
       "      <td>-24.625771</td>\n",
       "      <td>23.891073</td>\n",
       "      <td>...</td>\n",
       "      <td>-5.853725</td>\n",
       "      <td>-3.724773</td>\n",
       "      <td>-6.627182</td>\n",
       "      <td>-5.117002</td>\n",
       "      <td>-6.072106</td>\n",
       "      <td>-0.994653</td>\n",
       "      <td>-1.617120</td>\n",
       "      <td>-3.922354</td>\n",
       "      <td>-7.033001</td>\n",
       "      <td>FAKE</td>\n",
       "    </tr>\n",
       "  </tbody>\n",
       "</table>\n",
       "<p>3 rows × 27 columns</p>\n",
       "</div>"
      ],
      "text/plain": [
       "   chroma_stft       rms  spectral_centroid  spectral_bandwidth      rolloff  \\\n",
       "0     0.338055  0.027948        2842.948867         4322.916759  6570.586186   \n",
       "1     0.443766  0.037838        2336.129597         3445.777044  3764.949874   \n",
       "2     0.302528  0.056578        2692.988386         2861.133180  4716.610271   \n",
       "\n",
       "   zero_crossing_rate       mfcc1       mfcc2      mfcc3      mfcc4  ...  \\\n",
       "0            0.041050 -462.169586   90.311272  19.073769  24.046888  ...   \n",
       "1            0.047730 -409.413422  120.348808  -7.161531   5.114784  ...   \n",
       "2            0.080342 -318.996033  120.490273 -24.625771  23.891073  ...   \n",
       "\n",
       "     mfcc12    mfcc13    mfcc14    mfcc15    mfcc16    mfcc17    mfcc18  \\\n",
       "0 -6.686564  0.902086 -7.251551 -1.198342  4.747403 -4.986279  0.953935   \n",
       "1 -2.131157 -6.876417 -1.359395  0.326401 -5.420016 -2.109968 -1.757634   \n",
       "2 -5.853725 -3.724773 -6.627182 -5.117002 -6.072106 -0.994653 -1.617120   \n",
       "\n",
       "     mfcc19    mfcc20  LABEL  \n",
       "0 -5.013138 -6.779060   FAKE  \n",
       "1 -9.537907 -8.494421   FAKE  \n",
       "2 -3.922354 -7.033001   FAKE  \n",
       "\n",
       "[3 rows x 27 columns]"
      ]
     },
     "execution_count": 1,
     "metadata": {},
     "output_type": "execute_result"
    }
   ],
   "source": [
    "import pandas as pd\n",
    "\n",
    "\n",
    "\n",
    "datasource = pd.read_csv(\"DATASET-balanced.csv\")\n",
    "\n",
    "\n",
    "datasource.head(3)"
   ]
  },
  {
   "cell_type": "markdown",
   "metadata": {},
   "source": [
    "For the reason we said before we decide to make our own audio cleaning and transformation and recreate a new csv dataset for further analysis."
   ]
  },
  {
   "cell_type": "markdown",
   "metadata": {},
   "source": [
    "## <u>Data Preparation</u>: \n",
    "For more details go to [notebook](./deep-learning-prep.ipynb)"
   ]
  },
  {
   "cell_type": "markdown",
   "metadata": {},
   "source": [
    "### 1.  Exploratory Data Analysis"
   ]
  },
  {
   "cell_type": "markdown",
   "metadata": {},
   "source": [
    "As the first step in our project, we conducted an exploratory data analysis (EDA) to understand the nature of the audio data we are working with. <br> This step was needed for building a strategy for subsequent modeling and experimentation. <br> We extracted and analyzed basic information and features from both real and fake short audio signals.\n",
    "\n",
    "In this step, we examined the following aspects of the audio data:\n",
    "\n",
    "- **Duration of Each Audio**: Measured the length of each audio file to understand the variability in duration.\n",
    "- **Number of Channels**: Identified whether the audio files were mono or stereo.\n",
    "- **Sample Rate**: Analyzed the sample rate of the audio files to ensure consistency and quality.\n",
    "- **Class Distribution**: Checked the distribution of real and fake audio samples to assess the balance of the dataset.\n",
    "- **FFT Visuals**: Generated Fast Fourier Transform (FFT) visuals to observe the frequency domain representation of the audio signals.\n",
    "- **Spectrogram**: Created spectrograms to visualize the time-frequency representation of the audio signals.\n",
    "- **MFCC Visuals**: Extracted and visualized Mel-Frequency Cepstral Coefficients (MFCC) to capture important features of the audio signals."
   ]
  },
  {
   "cell_type": "markdown",
   "metadata": {},
   "source": [
    "During our initial exploratory data analysis (EDA), we observed the following characteristics of the audio data:\n",
    "\n",
    "- All audio signals are stereo (2 channels).\n",
    "- The audio signals have varying lengths and sample rates.\n",
    "- There is a significant imbalance between the number of real and fake samples."
   ]
  },
  {
   "cell_type": "markdown",
   "metadata": {},
   "source": [
    "### 2.  Audio Cleaning"
   ]
  },
  {
   "cell_type": "markdown",
   "metadata": {},
   "source": [
    "As part of our data preparation, we made several changes and adjustments to the audio files to create a new dataset suitable for our modeling tasks. The following adjustments were applied:\n",
    "\n",
    "- **Downsampling**: Reduced the sample rate of the audio files to ensure consistency and manageability.\n",
    "- **Changing Sample Rate**: Standardized the sample rate of all audio files to 16000 Hz.\n",
    "- **Changing Number of Channels**: Converted all audio files from stereo (2 channels) to mono (1 channel).\n",
    "\n",
    "Additionally, we considered implementing a step to remove silence from the audio files. However, after discussion, it was decided not to include this step in the preprocessing pipeline.\n"
   ]
  },
  {
   "cell_type": "markdown",
   "metadata": {},
   "source": [
    "### 3.  Preprocessing"
   ]
  },
  {
   "cell_type": "markdown",
   "metadata": {},
   "source": [
    "```plaintext\n",
    "+--------------------+\n",
    "| Original Audio     |\n",
    "| Files              |\n",
    "+--------------------+\n",
    "          |\n",
    "          v\n",
    "+--------------------------------------+\n",
    "| Audio Splitting                      |\n",
    "|   - 3-Second Segments                |\n",
    "|   - Data Augmentation (training only)|\n",
    "+--------------------------------------+\n",
    "          |\n",
    "          v\n",
    "+-----------------------------+\n",
    "|                             |\n",
    "| 3-Second Segments           |\n",
    "|                             |\n",
    "+-----------------------------+\n",
    "          |\n",
    "          +-------------------------------------+\n",
    "          |                                     |\n",
    "          v                                     v\n",
    "+----------------------+             +----------------------+\n",
    "| Feature Extraction   |             | Melgram Creation     |\n",
    "| (Dataset)            |             | (Pickle files)       |\n",
    "+----------------------+             +----------------------+\n",
    "          |                                     \n",
    "          v                                     \n",
    "+----------------------------+     \n",
    "| Preprocessed Dataset       |     \n",
    "| (Normalized, Arranged)     |     \n",
    "+----------------------------+     "
   ]
  },
  {
   "cell_type": "markdown",
   "metadata": {},
   "source": [
    "In the preprocessing stage of audio data we typically follow these steps:\n",
    "\n",
    "<u>Approach to the Problem</u>\n",
    "\n",
    "In our analysis, we employed two distinct methods to address the challenge of classifying audio samples:\n",
    "\n",
    "1. **Audio Splitting into 3-Second Segments**\n",
    "- To improve the accuracy and efficiency of our classification models, we divided the original audio files into 3-second segments.\n",
    "- This segmentation process increased the number of training samples, providing the models with more data to learn from.\n",
    "- By focusing on shorter segments, the models could capture finer details and variations within the audio, enhancing their ability to distinguish between different classes.\n"
   ]
  },
  {
   "cell_type": "code",
   "execution_count": 2,
   "metadata": {},
   "outputs": [
    {
     "data": {
      "image/png": "[encoded data removed]",
      "text/plain": [
       "<Figure size 800x600 with 1 Axes>"
      ]
     },
     "metadata": {},
     "output_type": "display_data"
    }
   ],
   "source": [
    "import matplotlib.pyplot as plt\n",
    "\n",
    "new_dataset = pd.read_csv(\"classic_dataset.csv\")\n",
    "\n",
    "\n",
    "label_counts = new_dataset[\"LABEL\"].value_counts()\n",
    "\n",
    "plt.figure(figsize=(8, 6))\n",
    "label_counts.plot(kind=\"bar\", color=[\"blue\", \"green\"])\n",
    "plt.title(\"Distribution of Labels in the Datasets\")\n",
    "plt.xlabel(\"Label\")\n",
    "plt.ylabel(\"Count\")\n",
    "plt.xticks(rotation=0)\n",
    "plt.show()"
   ]
  },
  {
   "cell_type": "markdown",
   "metadata": {},
   "source": [
    "2. **Data Augmentation**\n",
    "To address the imbalance in our dataset, which contains significantly more fake audio samples than real ones, we applied the following approach for the real audio files in the training set:\n",
    "\n",
    "- Instead of creating non-overlapping 3-second segments, we generated overlapping segments.\n",
    "- Each segment is 3 seconds long with a step of 1.5 seconds between the start of consecutive segments.\n",
    "\n",
    "This helped in generating additional training samples by making small modifications to the original audio files. "
   ]
  },
  {
   "cell_type": "code",
   "execution_count": 3,
   "metadata": {},
   "outputs": [
    {
     "data": {
      "image/png": "[encoded data removed]",
      "text/plain": [
       "<Figure size 800x600 with 1 Axes>"
      ]
     },
     "metadata": {},
     "output_type": "display_data"
    }
   ],
   "source": [
    "aug_dataset = pd.read_csv(\"classic_dataset_augmented.csv\")\n",
    "\n",
    "\n",
    "label_counts = aug_dataset[\"LABEL\"].value_counts()\n",
    "\n",
    "plt.figure(figsize=(8, 6))\n",
    "label_counts.plot(kind=\"bar\", color=[\"blue\", \"green\"])\n",
    "plt.title(\"Distribution of Labels in the Augmented Datasets\")\n",
    "plt.xlabel(\"Label\")\n",
    "plt.ylabel(\"Count\")\n",
    "plt.xticks(rotation=0)\n",
    "plt.show()"
   ]
  },
  {
   "cell_type": "markdown",
   "metadata": {},
   "source": [
    "\n",
    "<u>Data Extraction Methods</u>\n",
    "\n",
    "We extracted data using two distinct methods to facilitate our analysis and model training:\n",
    "\n",
    "1. **Feature Vectors from Audio Segments**\n",
    "For the first method, we processed the audio files by splitting them into 3-second segments and extracting relevant features. These features, which included chroma_stft, rms, spectral_centroid, spectral_bandwidth, and various MFCCs, were compiled into a CSV file. This file contained the feature vectors for each audio segment, serving as the input for traditional machine learning models such as Random Forest, SVM, KNN, and XGBoost. The feature extraction allowed us to capture the essential characteristics of the audio in a structured format suitable for these models."
   ]
  },
  {
   "cell_type": "markdown",
   "metadata": {},
   "source": [
    "A) After extracting feature vectors from audio data we conclude with the following dataset :"
   ]
  },
  {
   "cell_type": "code",
   "execution_count": 4,
   "metadata": {},
   "outputs": [
    {
     "data": {
      "text/html": [
       "<div>\n",
       "<style scoped>\n",
       "    .dataframe tbody tr th:only-of-type {\n",
       "        vertical-align: middle;\n",
       "    }\n",
       "\n",
       "    .dataframe tbody tr th {\n",
       "        vertical-align: top;\n",
       "    }\n",
       "\n",
       "    .dataframe thead th {\n",
       "        text-align: right;\n",
       "    }\n",
       "</style>\n",
       "<table border=\"1\" class=\"dataframe\">\n",
       "  <thead>\n",
       "    <tr style=\"text-align: right;\">\n",
       "      <th></th>\n",
       "      <th>chroma_stft</th>\n",
       "      <th>rms</th>\n",
       "      <th>spectral_centroid</th>\n",
       "      <th>spectral_bandwidth</th>\n",
       "      <th>rolloff</th>\n",
       "      <th>zero_crossing_rate</th>\n",
       "      <th>mfcc1</th>\n",
       "      <th>mfcc2</th>\n",
       "      <th>mfcc3</th>\n",
       "      <th>mfcc4</th>\n",
       "      <th>...</th>\n",
       "      <th>mfcc13</th>\n",
       "      <th>mfcc14</th>\n",
       "      <th>mfcc15</th>\n",
       "      <th>mfcc16</th>\n",
       "      <th>mfcc17</th>\n",
       "      <th>mfcc18</th>\n",
       "      <th>mfcc19</th>\n",
       "      <th>mfcc20</th>\n",
       "      <th>original_sample</th>\n",
       "      <th>LABEL</th>\n",
       "    </tr>\n",
       "  </thead>\n",
       "  <tbody>\n",
       "    <tr>\n",
       "      <th>0</th>\n",
       "      <td>0.406384</td>\n",
       "      <td>0.000002</td>\n",
       "      <td>1726.659103</td>\n",
       "      <td>1313.571519</td>\n",
       "      <td>2691.655585</td>\n",
       "      <td>0.166597</td>\n",
       "      <td>-1100.7047</td>\n",
       "      <td>24.245398</td>\n",
       "      <td>-4.094656</td>\n",
       "      <td>-11.856869</td>\n",
       "      <td>...</td>\n",
       "      <td>-0.645655</td>\n",
       "      <td>-1.132683</td>\n",
       "      <td>-2.797139</td>\n",
       "      <td>-3.261496</td>\n",
       "      <td>-0.838549</td>\n",
       "      <td>0.040131</td>\n",
       "      <td>-0.060138</td>\n",
       "      <td>-1.380203</td>\n",
       "      <td>biden-to-linus</td>\n",
       "      <td>FAKE</td>\n",
       "    </tr>\n",
       "    <tr>\n",
       "      <th>1</th>\n",
       "      <td>0.488609</td>\n",
       "      <td>0.000002</td>\n",
       "      <td>1494.082478</td>\n",
       "      <td>1153.538601</td>\n",
       "      <td>2407.413564</td>\n",
       "      <td>0.133025</td>\n",
       "      <td>-1096.9451</td>\n",
       "      <td>24.470573</td>\n",
       "      <td>-14.613540</td>\n",
       "      <td>-24.321949</td>\n",
       "      <td>...</td>\n",
       "      <td>-4.825898</td>\n",
       "      <td>-5.560425</td>\n",
       "      <td>-2.493666</td>\n",
       "      <td>0.818739</td>\n",
       "      <td>1.947798</td>\n",
       "      <td>2.038546</td>\n",
       "      <td>0.929982</td>\n",
       "      <td>-0.998090</td>\n",
       "      <td>biden-to-linus</td>\n",
       "      <td>FAKE</td>\n",
       "    </tr>\n",
       "    <tr>\n",
       "      <th>2</th>\n",
       "      <td>0.362642</td>\n",
       "      <td>0.000003</td>\n",
       "      <td>1782.153328</td>\n",
       "      <td>1487.245881</td>\n",
       "      <td>3030.917553</td>\n",
       "      <td>0.133561</td>\n",
       "      <td>-1091.5063</td>\n",
       "      <td>32.406384</td>\n",
       "      <td>6.421868</td>\n",
       "      <td>0.284660</td>\n",
       "      <td>...</td>\n",
       "      <td>-2.619975</td>\n",
       "      <td>-1.499475</td>\n",
       "      <td>-1.358122</td>\n",
       "      <td>-2.547379</td>\n",
       "      <td>-2.780402</td>\n",
       "      <td>-4.007704</td>\n",
       "      <td>-1.956772</td>\n",
       "      <td>-2.554486</td>\n",
       "      <td>biden-to-linus</td>\n",
       "      <td>FAKE</td>\n",
       "    </tr>\n",
       "  </tbody>\n",
       "</table>\n",
       "<p>3 rows × 28 columns</p>\n",
       "</div>"
      ],
      "text/plain": [
       "   chroma_stft       rms  spectral_centroid  spectral_bandwidth      rolloff  \\\n",
       "0     0.406384  0.000002        1726.659103         1313.571519  2691.655585   \n",
       "1     0.488609  0.000002        1494.082478         1153.538601  2407.413564   \n",
       "2     0.362642  0.000003        1782.153328         1487.245881  3030.917553   \n",
       "\n",
       "   zero_crossing_rate      mfcc1      mfcc2      mfcc3      mfcc4  ...  \\\n",
       "0            0.166597 -1100.7047  24.245398  -4.094656 -11.856869  ...   \n",
       "1            0.133025 -1096.9451  24.470573 -14.613540 -24.321949  ...   \n",
       "2            0.133561 -1091.5063  32.406384   6.421868   0.284660  ...   \n",
       "\n",
       "     mfcc13    mfcc14    mfcc15    mfcc16    mfcc17    mfcc18    mfcc19  \\\n",
       "0 -0.645655 -1.132683 -2.797139 -3.261496 -0.838549  0.040131 -0.060138   \n",
       "1 -4.825898 -5.560425 -2.493666  0.818739  1.947798  2.038546  0.929982   \n",
       "2 -2.619975 -1.499475 -1.358122 -2.547379 -2.780402 -4.007704 -1.956772   \n",
       "\n",
       "     mfcc20  original_sample  LABEL  \n",
       "0 -1.380203   biden-to-linus   FAKE  \n",
       "1 -0.998090   biden-to-linus   FAKE  \n",
       "2 -2.554486   biden-to-linus   FAKE  \n",
       "\n",
       "[3 rows x 28 columns]"
      ]
     },
     "execution_count": 4,
     "metadata": {},
     "output_type": "execute_result"
    }
   ],
   "source": [
    "new_dataset.head(3)"
   ]
  },
  {
   "cell_type": "markdown",
   "metadata": {},
   "source": [
    "B) After extracting feature vectors from Data Augmentation we conclude with the following dataset "
   ]
  },
  {
   "cell_type": "code",
   "execution_count": 5,
   "metadata": {},
   "outputs": [
    {
     "data": {
      "text/html": [
       "<div>\n",
       "<style scoped>\n",
       "    .dataframe tbody tr th:only-of-type {\n",
       "        vertical-align: middle;\n",
       "    }\n",
       "\n",
       "    .dataframe tbody tr th {\n",
       "        vertical-align: top;\n",
       "    }\n",
       "\n",
       "    .dataframe thead th {\n",
       "        text-align: right;\n",
       "    }\n",
       "</style>\n",
       "<table border=\"1\" class=\"dataframe\">\n",
       "  <thead>\n",
       "    <tr style=\"text-align: right;\">\n",
       "      <th></th>\n",
       "      <th>chroma_stft</th>\n",
       "      <th>rms</th>\n",
       "      <th>spectral_centroid</th>\n",
       "      <th>spectral_bandwidth</th>\n",
       "      <th>rolloff</th>\n",
       "      <th>zero_crossing_rate</th>\n",
       "      <th>mfcc1</th>\n",
       "      <th>mfcc2</th>\n",
       "      <th>mfcc3</th>\n",
       "      <th>mfcc4</th>\n",
       "      <th>...</th>\n",
       "      <th>mfcc13</th>\n",
       "      <th>mfcc14</th>\n",
       "      <th>mfcc15</th>\n",
       "      <th>mfcc16</th>\n",
       "      <th>mfcc17</th>\n",
       "      <th>mfcc18</th>\n",
       "      <th>mfcc19</th>\n",
       "      <th>mfcc20</th>\n",
       "      <th>original_sample</th>\n",
       "      <th>LABEL</th>\n",
       "    </tr>\n",
       "  </thead>\n",
       "  <tbody>\n",
       "    <tr>\n",
       "      <th>0</th>\n",
       "      <td>0.406384</td>\n",
       "      <td>0.000002</td>\n",
       "      <td>1726.659103</td>\n",
       "      <td>1313.571519</td>\n",
       "      <td>2691.655585</td>\n",
       "      <td>0.166597</td>\n",
       "      <td>-1100.7047</td>\n",
       "      <td>24.245398</td>\n",
       "      <td>-4.094656</td>\n",
       "      <td>-11.856869</td>\n",
       "      <td>...</td>\n",
       "      <td>-0.645655</td>\n",
       "      <td>-1.132683</td>\n",
       "      <td>-2.797139</td>\n",
       "      <td>-3.261496</td>\n",
       "      <td>-0.838549</td>\n",
       "      <td>0.040131</td>\n",
       "      <td>-0.060138</td>\n",
       "      <td>-1.380203</td>\n",
       "      <td>biden-to-linus</td>\n",
       "      <td>FAKE</td>\n",
       "    </tr>\n",
       "    <tr>\n",
       "      <th>1</th>\n",
       "      <td>0.488609</td>\n",
       "      <td>0.000002</td>\n",
       "      <td>1494.082478</td>\n",
       "      <td>1153.538601</td>\n",
       "      <td>2407.413564</td>\n",
       "      <td>0.133025</td>\n",
       "      <td>-1096.9451</td>\n",
       "      <td>24.470573</td>\n",
       "      <td>-14.613540</td>\n",
       "      <td>-24.321949</td>\n",
       "      <td>...</td>\n",
       "      <td>-4.825898</td>\n",
       "      <td>-5.560425</td>\n",
       "      <td>-2.493666</td>\n",
       "      <td>0.818739</td>\n",
       "      <td>1.947798</td>\n",
       "      <td>2.038546</td>\n",
       "      <td>0.929982</td>\n",
       "      <td>-0.998090</td>\n",
       "      <td>biden-to-linus</td>\n",
       "      <td>FAKE</td>\n",
       "    </tr>\n",
       "    <tr>\n",
       "      <th>2</th>\n",
       "      <td>0.362642</td>\n",
       "      <td>0.000003</td>\n",
       "      <td>1782.153328</td>\n",
       "      <td>1487.245881</td>\n",
       "      <td>3030.917553</td>\n",
       "      <td>0.133561</td>\n",
       "      <td>-1091.5063</td>\n",
       "      <td>32.406384</td>\n",
       "      <td>6.421868</td>\n",
       "      <td>0.284660</td>\n",
       "      <td>...</td>\n",
       "      <td>-2.619975</td>\n",
       "      <td>-1.499475</td>\n",
       "      <td>-1.358122</td>\n",
       "      <td>-2.547379</td>\n",
       "      <td>-2.780402</td>\n",
       "      <td>-4.007704</td>\n",
       "      <td>-1.956772</td>\n",
       "      <td>-2.554486</td>\n",
       "      <td>biden-to-linus</td>\n",
       "      <td>FAKE</td>\n",
       "    </tr>\n",
       "  </tbody>\n",
       "</table>\n",
       "<p>3 rows × 28 columns</p>\n",
       "</div>"
      ],
      "text/plain": [
       "   chroma_stft       rms  spectral_centroid  spectral_bandwidth      rolloff  \\\n",
       "0     0.406384  0.000002        1726.659103         1313.571519  2691.655585   \n",
       "1     0.488609  0.000002        1494.082478         1153.538601  2407.413564   \n",
       "2     0.362642  0.000003        1782.153328         1487.245881  3030.917553   \n",
       "\n",
       "   zero_crossing_rate      mfcc1      mfcc2      mfcc3      mfcc4  ...  \\\n",
       "0            0.166597 -1100.7047  24.245398  -4.094656 -11.856869  ...   \n",
       "1            0.133025 -1096.9451  24.470573 -14.613540 -24.321949  ...   \n",
       "2            0.133561 -1091.5063  32.406384   6.421868   0.284660  ...   \n",
       "\n",
       "     mfcc13    mfcc14    mfcc15    mfcc16    mfcc17    mfcc18    mfcc19  \\\n",
       "0 -0.645655 -1.132683 -2.797139 -3.261496 -0.838549  0.040131 -0.060138   \n",
       "1 -4.825898 -5.560425 -2.493666  0.818739  1.947798  2.038546  0.929982   \n",
       "2 -2.619975 -1.499475 -1.358122 -2.547379 -2.780402 -4.007704 -1.956772   \n",
       "\n",
       "     mfcc20  original_sample  LABEL  \n",
       "0 -1.380203   biden-to-linus   FAKE  \n",
       "1 -0.998090   biden-to-linus   FAKE  \n",
       "2 -2.554486   biden-to-linus   FAKE  \n",
       "\n",
       "[3 rows x 28 columns]"
      ]
     },
     "execution_count": 5,
     "metadata": {},
     "output_type": "execute_result"
    }
   ],
   "source": [
    "aug_dataset.head(3)"
   ]
  },
  {
   "cell_type": "markdown",
   "metadata": {},
   "source": [
    "As we can see on the new dataset there is column that give us the information of the origin of each segment and we know exactly the stepts have made for cleaning and transforming.\n",
    "\n",
    "2. **Mel-spectrogram Images for CNN**\n",
    "The second method involved generating mel-spectrogram images from the audio segments stored in pickle format. These images visually represent the frequency distribution of the audio over time, providing a rich and detailed depiction of the audio signal. We saved these mel-spectrogram images as files to be used as input mostly for Convolutional Neural Networks (CNNs). CNNs are particularly well-suited for image data, and by using mel-spectrograms, we aimed to leverage the deep learning capabilities of CNNs to identify intricate patterns and features in the audio data.\n",
    "\n",
    "Let's take a look at one small segment created"
   ]
  },
  {
   "cell_type": "code",
   "execution_count": null,
   "metadata": {},
   "outputs": [],
   "source": []
  },
  {
   "cell_type": "markdown",
   "metadata": {},
   "source": [
    "### 4.  Modeling"
   ]
  },
  {
   "cell_type": "markdown",
   "metadata": {},
   "source": [
    "**Data Splitting and Preparation**\n",
    "\n",
    "In our data preparation process, we employed a strategic approach to split the dataset into training, validation, and test sets. The primary objective was to ensure that the test set included all audio samples from specific individuals (Margot Robbie and Ryan Gosling) while maintaining a balanced and stratified distribution for the remaining data. This method helps us evaluate our model's performance on unseen data effectively.\n",
    "\n",
    "- Test Set Creation :To create a robust test set, we identified and excluded all real and fake audio samples related to Margot Robbie and Ryan Gosling. This decision was made to ensure that the test set reflects a scenario where the model encounters entirely new speakers during evaluation. The steps involved were as follows:\n",
    "\n",
    "- Identification of Test Samples: We generated a list of original test samples by appending \"-original\" to the names of the speakers (Margot Robbie and Ryan Gosling).Additionally, we created a list of potential fake test samples by appending \"-to\" to the same speaker names.\n",
    "We then identified the actual fake test samples by checking if any string from the potential fake test samples was present in the original samples.\n",
    "\n",
    "- Extraction of Test Set: We filtered the dataset to include only those samples where the original_sample matched the identified test samples.\n",
    "These test samples were removed from the dataset to ensure they were not included in the training or validation sets.\n",
    "\n",
    "- Training and Validation Set Creation: For the remaining data, we split it into training and validation sets in a stratified manner based on the labels. This approach ensures that both sets have a proportional representation of each class, maintaining the balance necessary for effective model training and evaluation. \n",
    "\n",
    "- The process varied slightly based on the type of data:\n",
    "\n",
    "    1. For Image Data:The data was split directly into training and validation sets using the train_test_split function, with stratification based on the LABEL column.\n",
    "\n",
    "    2. For Tabular Data: Before splitting, we normalized the features (all columns except the last two) using StandardScaler. This step ensures that the features have a mean of 0 and a standard deviation of 1, which is crucial for algorithms that are sensitive to feature scaling.\n",
    "\n",
    "- After normalization, we split the data into training and validation sets, maintaining stratification based on the LABEL column.The test set features were also normalized using the same scaler to ensure consistency in feature scaling across all sets.\n"
   ]
  }
 ],
 "metadata": {
  "kernelspec": {
   "display_name": "Python 3",
   "language": "python",
   "name": "python3"
  },
  "language_info": {
   "codemirror_mode": {
    "name": "ipython",
    "version": 3
   },
   "file_extension": ".py",
   "mimetype": "text/x-python",
   "name": "python",
   "nbconvert_exporter": "python",
   "pygments_lexer": "ipython3",
   "version": "3.11.9"
  }
 },
 "nbformat": 4,
 "nbformat_minor": 2
}
